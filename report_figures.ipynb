{
 "cells": [
  {
   "cell_type": "markdown",
   "metadata": {},
   "source": [
    "## Report Figures"
   ]
  },
  {
   "cell_type": "code",
   "execution_count": null,
   "metadata": {},
   "outputs": [],
   "source": [
    "import pandas as pd\n",
    "import matplotlib.pyplot as plt\n",
    "import numpy as np\n",
    "from classes import PNN\n",
    "import pickle"
   ]
  },
  {
   "cell_type": "code",
   "execution_count": null,
   "metadata": {},
   "outputs": [],
   "source": [
    "def pre_selection(df):\n",
    "    dfout = df.loc[(df[\"region\"] == 1) | (df[\"region\"] == 2)]\n",
    "    dfout = dfout.loc[dfout[\"regime\"] == 1]\n",
    "    dfout = dfout.loc[(dfout[\"nTags\"] == 2)]\n",
    "    dfout.drop(columns=[\"nTags\", \"MCChannelNumber\", \"region\", \"regime\", \"dEtaBB\", \"dPhiBB\"], inplace=True)\n",
    "    return dfout\n",
    "\n",
    "def plotfeature(feature, scaling, xlabel, binning, margin=None, xlim=None, xlog=False, save_as=None):\n",
    "    fig, ax = plt.subplots()\n",
    "    signal_mass = [300, 900, 2000]\n",
    "    _, bins, _ = plt.hist(background[feature]/scaling, weights=background.weight, label='background', \n",
    "        color='grey', alpha=0.4, bins= np.arange(binning[0], binning[1] + binning[2], binning[2]),)\n",
    "     \n",
    "        # Grab the bin sizing of the background so that the signal bin sizes match\n",
    "        \n",
    "    for mass in signal_mass:\n",
    "        temp = signal[signal['MA'] == mass]\n",
    "        plt.hist(temp[feature]/scaling, weights=temp.weight, label=fr'$m_A$ = {mass} GeV', bins=bins, histtype='step')\n",
    "        \n",
    "    ax.set_xlabel(xlabel, fontsize= 12)\n",
    "    ax.set_yscale('log')\n",
    "    ax.set_ylabel(f'Events / {binning[2]} GeV', fontsize= 12)\n",
    "    ax.set_ylim(top=1E+5)\n",
    "    ax.minorticks_off()\n",
    "    \n",
    "    if margin != None:\n",
    "        plt.margins(x=margin)\n",
    "    \n",
    "    plt.legend()\n",
    "    \n",
    "    if save_as:\n",
    "        plt.savefig(save_as)\n",
    "    plt.show()\n"
   ]
  },
  {
   "cell_type": "code",
   "execution_count": null,
   "metadata": {
    "scrolled": true
   },
   "outputs": [],
   "source": [
    "signal = pd.DataFrame()\n",
    "signal_mass = [300, 420, 440, 460, 500, 600, 700,\n",
    "              800, 900, 1000, 1200, 1400, 1600, 2000]\n",
    "for mass in signal_mass:\n",
    "    temp = pd.read_csv(f'..//Raw Data/{mass}.csv', index_col=0)\n",
    "    temp['MA'] = mass\n",
    "    signal = pd.concat((temp, signal))\n",
    "\n",
    "background = pd.read_csv('..//Raw Data/background.csv', index_col=0)\n",
    "\n",
    "signal = pre_selection(signal)\n",
    "background = pre_selection(background)"
   ]
  },
  {
   "cell_type": "code",
   "execution_count": null,
   "metadata": {},
   "outputs": [],
   "source": [
    "print('signal:', len(signal)/1E+5, 'instances')\n",
    "print('background:', len(background)/1E+5, 'instances')"
   ]
  },
  {
   "cell_type": "markdown",
   "metadata": {},
   "source": [
    "### Feature plots"
   ]
  },
  {
   "cell_type": "code",
   "execution_count": null,
   "metadata": {},
   "outputs": [],
   "source": [
    "plotfeature('pTB1', 1000, r'$p_{T,B1}$ (GeV)',  binning=(0, 1600, 100), margin=0, save_as='..//Report Plots/section3/pTB1.png')"
   ]
  },
  {
   "cell_type": "code",
   "execution_count": null,
   "metadata": {},
   "outputs": [],
   "source": [
    "plotfeature('ptL1', 1000, r'$p_{T,l1}$ (GeV)', binning=(0,3200, 200), margin=0, save_as='..//Report Plots/section3/ptL1.png')\n"
   ]
  },
  {
   "cell_type": "code",
   "execution_count": null,
   "metadata": {},
   "outputs": [],
   "source": [
    "plotfeature('mVHres', 1000, r'$m_{Zh}$ (GeV)', binning=(0, 3600, 200), margin=0, save_as='..//Report Plots/section3/mZh.png')"
   ]
  },
  {
   "cell_type": "code",
   "execution_count": null,
   "metadata": {},
   "outputs": [],
   "source": [
    "plotfeature('mLL', 1000, r'$m_{ll}$ (GeV)', binning=(35, 135, 5), margin=0, save_as='..//Report Plots/section3/mLL.png')\n"
   ]
  },
  {
   "cell_type": "markdown",
   "metadata": {},
   "source": [
    "### Negative Background Weights: Case 3 check "
   ]
  },
  {
   "cell_type": "code",
   "execution_count": null,
   "metadata": {
    "scrolled": true
   },
   "outputs": [],
   "source": [
    "pnn = PNN()\n",
    "pnn.load_data('..//output_temp/report_output/data_dict_0.01.pkl', testing=True)\n",
    "model = '..//output_temp/report_output/best_state_0.01.pth'\n",
    "sig_all = pnn.test(model, 50, 2, remove_negatives=False, positive_bkg=False)\n",
    "sig_noneg = pnn.test(model, 50, 2, remove_negatives=True, positive_bkg=False)\n",
    "sig_pos = pnn.test(model, 50, 2, remove_negatives=False, positive_bkg=True)\n",
    "\n",
    "sig_all = sig_all[:10] + [sig_all[-1]] + sig_all[10:-1]\n",
    "sig_noneg = sig_noneg[:10] + [sig_noneg[-1]] + sig_noneg[10:-1]\n",
    "sig_pos = sig_pos[:10] + [sig_pos[-1]] + sig_pos[10:-1]"
   ]
  },
  {
   "cell_type": "code",
   "execution_count": null,
   "metadata": {},
   "outputs": [],
   "source": [
    "diff1 = np.abs(np.array(sig_noneg) - np.array(sig_all))\n",
    "print(((diff1 / np.array(sig_all)) *100).max())\n",
    "\n",
    "diff2 = np.abs(np.array(sig_pos) - np.array(sig_all))\n",
    "print(((diff2 / np.array(sig_all)) *100).max())"
   ]
  },
  {
   "cell_type": "code",
   "execution_count": null,
   "metadata": {
    "scrolled": false
   },
   "outputs": [],
   "source": [
    "BDT = pd.read_excel('..//significancesBDT.xlsx')\n",
    "BDT.drop(BDT[BDT.mass == 400].index, inplace=True)\n",
    "BDT.reset_index(inplace=True)\n",
    "\n",
    "signal_mass = [300, 420, 440, 460, 500, 600, 700, 800, 900, 1000, 1200, 1400, 1600, 2000]\n",
    "\n",
    "plt.plot(signal_mass, sig_all, label=r'PNN with $b_i > 0$')\n",
    "plt.plot(signal_mass, BDT.significance, label='BDT' )\n",
    "plt.plot(signal_mass, sig_pos, label='PNN pos')\n",
    "plt.plot(signal_mass, sig_noneg, '--', label='PNN without negative background weights')\n",
    "plt.xlabel(r'$m_A$', fontsize=12)\n",
    "plt.ylabel('Significance', fontsize=12)\n",
    "\n",
    "plt.legend(fontsize=11)"
   ]
  },
  {
   "cell_type": "markdown",
   "metadata": {},
   "source": [
    "### Classifier outputs"
   ]
  },
  {
   "cell_type": "code",
   "execution_count": null,
   "metadata": {},
   "outputs": [],
   "source": [
    "pnn = PNN()\n",
    "pnn.load_data('..//output_temp/report_output/data_dict_1.pkl', testing=True)\n",
    "model = '..//output_temp/report_output/best_state_1.pth'\n",
    "_ = pnn.test(model, 50, 2, remove_negatives=False, positive_bkg=False)"
   ]
  },
  {
   "cell_type": "code",
   "execution_count": null,
   "metadata": {
    "scrolled": true
   },
   "outputs": [],
   "source": [
    "pnn = PNN()\n",
    "pnn.load_data('..//output_temp/report_output/data_dict_0.01.pkl', testing=True)\n",
    "model = '..//output_temp/report_output/best_state_0.01.pth'\n",
    "_ = pnn.test(model, 50, 2, remove_negatives=False, positive_bkg=False)"
   ]
  },
  {
   "cell_type": "markdown",
   "metadata": {},
   "source": [
    "### Signal scaling on validation set"
   ]
  },
  {
   "cell_type": "code",
   "execution_count": null,
   "metadata": {
    "scrolled": true
   },
   "outputs": [],
   "source": [
    "# To get all the significances\n",
    "pnn = PNN()\n",
    "significance_curves = []\n",
    "for file in [0.001, 0.01, 0.1, 1, 10.0]:\n",
    "    pnn.load_data(f'..//output_temp/report_output/data_dict_{file}.pkl', validating=True)\n",
    "    model = f'..//output_temp/report_output/best_state_{file}.pth'\n",
    "    significances = pnn.validate(model, 50, 2)\n",
    "    significance_curves.append(significances)"
   ]
  },
  {
   "cell_type": "code",
   "execution_count": null,
   "metadata": {
    "scrolled": false
   },
   "outputs": [],
   "source": [
    "signal_mass = [300, 420, 440, 460, 500, 600, 700, 800, 900, 1000, 1400, 1600, 2000]\n",
    "x = 0.001\n",
    "print('Average increase in significance:')\n",
    "for significance in significance_curves:\n",
    "    print(x, ':', (np.array(significance) - np.array(significance_curves[3])).mean())\n",
    "    plt.plot(signal_mass, significance, label=x)\n",
    "    plt.scatter(signal_mass, significance, s=8)\n",
    "    x *= 10\n",
    "plt.xlabel(r'$m_{A}$ (GeV)', fontsize=12)\n",
    "plt.ylabel('Significance', fontsize=12)\n",
    "plt.legend(title='Signal scaling factor')\n",
    "plt.savefig('..//Report Plots/section5/scaling_factors.pdf')\n",
    "plt.show()"
   ]
  },
  {
   "cell_type": "markdown",
   "metadata": {},
   "source": [
    "### PNN Vs. BDT Significance"
   ]
  },
  {
   "cell_type": "code",
   "execution_count": null,
   "metadata": {},
   "outputs": [],
   "source": [
    "BDT = pd.read_excel('..//significancesBDT.xlsx')\n",
    "BDT.drop(BDT[BDT.mass == 400].index, inplace=True)\n",
    "BDT.reset_index(inplace=True)\n",
    "PNN = pd.read_csv('..//significancesPNN.csv')\n",
    "df = pd.concat([PNN, BDT], axis=1)\n",
    "df"
   ]
  },
  {
   "cell_type": "code",
   "execution_count": null,
   "metadata": {
    "scrolled": true
   },
   "outputs": [],
   "source": [
    "plt.plot(df.mass, df.iloc[:, 1])\n",
    "plt.scatter(df.mass, df.iloc[:, 1], label='PNN')\n",
    "plt.plot(df.mass, df.iloc[:, 4])\n",
    "plt.scatter(df.mass, df.iloc[:, 4], label='BDT')\n",
    "plt.xlabel(r'$m_A$ (GeV)', fontsize=12)\n",
    "plt.ylabel('Significance', fontsize=12)\n",
    "plt.legend(fontsize=11)\n",
    "plt.savefig('..//Report Plots/section5/PNN-BDT_significance.pdf')"
   ]
  },
  {
   "cell_type": "markdown",
   "metadata": {},
   "source": [
    "### Plotting loss vs epoch"
   ]
  },
  {
   "cell_type": "code",
   "execution_count": null,
   "metadata": {
    "scrolled": false
   },
   "outputs": [],
   "source": [
    "with open('..//Results/02-history_dict.pkl', 'rb') as f:\n",
    "    f = pickle.load(f)\n",
    "plt.figure(figsize=(6.8, 4.8))\n",
    "x = np.arange(1, len(f['7'][0]) + 1, 1)\n",
    "plt.plot(x, f['7'][0], label='Training')\n",
    "plt.plot(x, f['7'][1], label='Validation')\n",
    "plt.xlabel('Epoch', fontsize=12)\n",
    "plt.ylabel('Loss', fontsize=12)\n",
    "s = 'hidden layers = 2 \\n'+'neurons per layer = 50 \\n'+r'$\\eta = 0.7$'+'\\n'+r'$\\gamma = 0.99$'+'\\n'+'activation = ReLU'\n",
    "plt.text(50, 0.002, s, fontsize=11)\n",
    "plt.legend(fontsize=11)\n",
    "plt.savefig('..//Report Plots/section5/loss_curve-22.pdf')\n",
    "plt.show()"
   ]
  },
  {
   "cell_type": "code",
   "execution_count": null,
   "metadata": {},
   "outputs": [],
   "source": [
    "with open('..//Results/01-history_dict.pkl', 'rb') as f:\n",
    "    f = pickle.load(f)\n",
    "    \n",
    "plt.figure(figsize=(6.8, 4.8))\n",
    "x = np.arange(1, len(f['76'][0]) + 1, 1)\n",
    "plt.plot(x, f['76'][0], label='Training')\n",
    "plt.plot(x, f['76'][1], label='Validation')\n",
    "plt.xlabel('Epoch', fontsize=12)\n",
    "plt.ylabel('Loss', fontsize=12)\n",
    "s = 'hidden layers = 3 \\n'+'neurons per layer = 200 \\n'+r'$\\eta = 0.01$'+'\\n'+r'$\\gamma = 0.99$'+'\\n'+'activation = ReLU'\n",
    "plt.text(58, 0.006, s, fontsize=11)\n",
    "plt.legend(fontsize=11)\n",
    "plt.savefig('..//Report PLots/section5/loss_curve-1.pdf')\n",
    "plt.show()"
   ]
  },
  {
   "cell_type": "code",
   "execution_count": null,
   "metadata": {},
   "outputs": [],
   "source": [
    "with open('..//output_temp/history_dict.pkl', 'rb') as f:\n",
    "    f = pickle.load(f)\n",
    "    \n",
    "plt.figure(figsize=(7.2, 4.8))\n",
    "x = np.arange(1, len(f['1'][0]) + 1, 1)\n",
    "plt.plot(x, f['1'][0], label='Training')\n",
    "plt.plot(x, f['1'][1], label='Validation')\n",
    "plt.xlabel('Epoch', fontsize=12)\n",
    "# plt.xticks(np.arange(0, 24, 4))\n",
    "plt.ylabel('Loss', fontsize=12)\n",
    "s = 'hidden layers = 2 \\n'+'neurons per layer = 50 \\n'+r'$\\eta = 1.4$'+'\\n'+r'$\\gamma = 0.999$'+'\\n'+'activation = ReLU'\n",
    "plt.text(30, 0.00175, s, fontsize=11)\n",
    "plt.legend(fontsize=11)\n",
    "plt.savefig('..//Report Plots/section5/loss_curve-3.pdf')\n",
    "plt.show()"
   ]
  }
 ],
 "metadata": {
  "kernelspec": {
   "display_name": "Python 3",
   "language": "python",
   "name": "python3"
  },
  "language_info": {
   "codemirror_mode": {
    "name": "ipython",
    "version": 3
   },
   "file_extension": ".py",
   "mimetype": "text/x-python",
   "name": "python",
   "nbconvert_exporter": "python",
   "pygments_lexer": "ipython3",
   "version": "3.7.6"
  }
 },
 "nbformat": 4,
 "nbformat_minor": 4
}
