{
 "cells": [
  {
   "cell_type": "markdown",
   "metadata": {},
   "source": [
    "# A Toy Neural Network \n",
    "## The MNIST Dataset\n",
    "Sources:\n",
    "- PyTorch tutorial: https://www.youtube.com/watch?v=c36lUUr864M&t=320s  \n",
    "- Hands-On Machine Learning\n",
    "- Deep Learning with PyTorch\n",
    "\n",
    "The purpose of this toy model is to produce a functioning neural network using PyTorch - the details regarding choice of network structure, hyperparameters, loss/activation function etc. will be explored later."
   ]
  },
  {
   "cell_type": "code",
   "execution_count": 9,
   "metadata": {},
   "outputs": [],
   "source": [
    "import torch\n",
    "import torch.nn as nn\n",
    "from torch.utils.tensorboard import SummaryWriter\n",
    "\n",
    "from sklearn.datasets import fetch_openml\n",
    "from sklearn.model_selection import train_test_split\n",
    "from sklearn.metrics import confusion_matrix\n",
    "\n",
    "import matplotlib.pyplot as plt\n",
    "import numpy as np"
   ]
  },
  {
   "cell_type": "markdown",
   "metadata": {},
   "source": [
    "We will be using the MNIST dataset which contains thousands of (labeled) handwritten digits which can be classified"
   ]
  },
  {
   "cell_type": "code",
   "execution_count": 10,
   "metadata": {},
   "outputs": [
    {
     "name": "stdout",
     "output_type": "stream",
     "text": [
      "The tensorboard extension is already loaded. To reload it, use:\n",
      "  %reload_ext tensorboard\n"
     ]
    }
   ],
   "source": [
    "%load_ext tensorboard"
   ]
  },
  {
   "cell_type": "code",
   "execution_count": 3,
   "metadata": {},
   "outputs": [
    {
     "data": {
      "text/plain": [
       "dict_keys(['data', 'target', 'frame', 'feature_names', 'target_names', 'DESCR', 'details', 'categories', 'url'])"
      ]
     },
     "execution_count": 3,
     "metadata": {},
     "output_type": "execute_result"
    }
   ],
   "source": [
    "mnist = fetch_openml('mnist_784', version=1)\n",
    "mnist.keys()"
   ]
  },
  {
   "cell_type": "code",
   "execution_count": 4,
   "metadata": {},
   "outputs": [
    {
     "data": {
      "text/plain": [
       "(70000, 784)"
      ]
     },
     "execution_count": 4,
     "metadata": {},
     "output_type": "execute_result"
    }
   ],
   "source": [
    "mnist.data.shape"
   ]
  },
  {
   "cell_type": "markdown",
   "metadata": {},
   "source": [
    "There are 70000 instances with 784 data points each. These are related to the pixels of a 28 x 28 image"
   ]
  },
  {
   "cell_type": "code",
   "execution_count": 5,
   "metadata": {
    "scrolled": true
   },
   "outputs": [
    {
     "data": {
      "image/png": "[encoded data removed]",
      "text/plain": [
       "<Figure size 432x288 with 1 Axes>"
      ]
     },
     "metadata": {
      "needs_background": "light"
     },
     "output_type": "display_data"
    }
   ],
   "source": [
    "# Example image\n",
    "plt.imshow(mnist.data[125].reshape(28, 28), cmap='gray')\n",
    "plt.title(mnist.target[125])\n",
    "plt.axis('off')\n",
    "plt.show()"
   ]
  },
  {
   "cell_type": "code",
   "execution_count": 6,
   "metadata": {},
   "outputs": [],
   "source": [
    "x_train, x_test, y_train, y_test = train_test_split(mnist.data/255, mnist.target.astype(np.int), # data / 255 to scale data\n",
    "                                                   train_size= 0.6, test_size=0.4, random_state=6)"
   ]
  },
  {
   "cell_type": "markdown",
   "metadata": {},
   "source": [
    "These need to be converted to tensors for pytorch"
   ]
  },
  {
   "cell_type": "code",
   "execution_count": 7,
   "metadata": {},
   "outputs": [],
   "source": [
    "x_train = torch.Tensor(x_train)\n",
    "x_test = torch.Tensor(x_test)\n",
    "y_train = torch.Tensor(y_train)\n",
    "y_test = torch.Tensor(y_test)"
   ]
  },
  {
   "cell_type": "code",
   "execution_count": 8,
   "metadata": {
    "scrolled": true
   },
   "outputs": [
    {
     "data": {
      "text/plain": [
       "tensor([[0.0000, 0.0000, 0.0000, 0.0000, 0.0000, 0.0000, 0.0000, 0.0000, 0.0000,\n",
       "         0.0000, 0.0000, 0.0000, 0.0000, 0.0000, 0.0000, 0.0000, 0.0000, 0.0000,\n",
       "         0.0000, 0.0000, 0.0000, 0.0000, 0.0000, 0.0000, 0.0000, 0.0000, 0.5059,\n",
       "         0.8549, 0.0000, 0.0000, 0.0000, 0.0000, 0.0000, 0.0000, 0.0000, 0.0000,\n",
       "         0.0000, 0.0000, 0.9961, 0.0000, 0.0000, 0.0000, 0.0000, 0.2902, 0.0000,\n",
       "         0.0000, 0.0000, 0.0000, 0.0000, 0.0588, 0.0000, 0.0000, 0.4824, 0.0000,\n",
       "         0.0000, 0.0000, 0.0000, 0.0000, 0.0000, 0.0000, 0.0000, 0.0000, 0.0000,\n",
       "         0.4784, 0.0000, 0.0000, 0.0000, 0.0000, 0.0000, 0.0000, 0.0000, 0.0000,\n",
       "         0.0000, 0.0000, 0.0000, 0.0000, 0.0000, 0.0000, 0.0000],\n",
       "        [0.0000, 0.0000, 0.0000, 0.0000, 0.0000, 0.0000, 0.0000, 0.7137, 0.0000,\n",
       "         0.0000, 0.0000, 0.0000, 0.0000, 0.0000, 0.0000, 0.0000, 0.0000, 0.0000,\n",
       "         0.1569, 0.0000, 0.0000, 0.9725, 0.0000, 0.0000, 0.0000, 0.0000, 0.0000,\n",
       "         0.0000, 0.0000, 0.0000, 0.0000, 0.0000, 0.9922, 0.0000, 0.0000, 0.0000,\n",
       "         0.0000, 0.0000, 0.6980, 0.0000, 0.0000, 0.9922, 0.0000, 0.9922, 0.9922,\n",
       "         0.0000, 0.9922, 0.0000, 0.0000, 0.5922, 0.0000, 0.0000, 0.0000, 0.0000,\n",
       "         0.0000, 0.9922, 0.0000, 0.0000, 0.0627, 0.0000, 0.0627, 0.0000, 0.0000,\n",
       "         0.0000, 0.0000, 0.0000, 0.0000, 0.0000, 0.0000, 0.0000, 0.0000, 0.0000,\n",
       "         0.0000, 0.0000, 0.0000, 0.0000, 0.0000, 0.0000, 0.0000]])"
      ]
     },
     "execution_count": 8,
     "metadata": {},
     "output_type": "execute_result"
    }
   ],
   "source": [
    "# Example of two elements from the x_train tensor\n",
    "x_train[:2, ::10]"
   ]
  },
  {
   "cell_type": "markdown",
   "metadata": {},
   "source": [
    "## Constructing the model  \n",
    "We can define some hyperparameters for the NN"
   ]
  },
  {
   "cell_type": "code",
   "execution_count": 11,
   "metadata": {},
   "outputs": [],
   "source": [
    "n_epochs = 2\n",
    "learning_rate = 1e-3\n",
    "batch_size = 100"
   ]
  },
  {
   "cell_type": "markdown",
   "metadata": {},
   "source": [
    "To train the NN in batches, we can use the **DataLoader**"
   ]
  },
  {
   "cell_type": "code",
   "execution_count": 12,
   "metadata": {},
   "outputs": [],
   "source": [
    "train_loader = torch.utils.data.DataLoader([[x_train[i], y_train[i]] for i in range(len(y_train))], batch_size = batch_size)\n",
    "test_loader = torch.utils.data.DataLoader([[x_test[i], y_test[i]] for i in range(len(y_test))], batch_size = batch_size)"
   ]
  },
  {
   "cell_type": "markdown",
   "metadata": {},
   "source": [
    "The DataLoader is an iterable object that seperates the data into batches with # instances = *batch_size*. The batch size, as well as the other hyperparameters, affect how fast the model is trained and how well it performs."
   ]
  },
  {
   "cell_type": "code",
   "execution_count": 13,
   "metadata": {},
   "outputs": [
    {
     "name": "stdout",
     "output_type": "stream",
     "text": [
      "torch.Size([100, 784]) tensor([4., 6., 4., 3., 3., 4., 4., 9., 7., 8., 7., 4., 6., 6., 8., 9., 3., 4.,\n",
      "        4., 8., 4., 7., 0., 0., 3., 7., 4., 2., 3., 6., 1., 3., 7., 4., 1., 6.,\n",
      "        8., 3., 1., 8., 9., 2., 0., 8., 8., 0., 7., 0., 7., 3., 8., 8., 2., 5.,\n",
      "        6., 6., 4., 9., 1., 9., 2., 3., 0., 1., 7., 4., 4., 9., 9., 9., 6., 2.,\n",
      "        1., 4., 3., 3., 4., 9., 9., 3., 6., 3., 7., 5., 6., 6., 9., 8., 3., 1.,\n",
      "        9., 2., 6., 9., 2., 2., 2., 5., 9., 7.])\n"
     ]
    }
   ],
   "source": [
    "# Example of a training batch\n",
    "ex_sample, ex_label = next(iter(train_loader))\n",
    "print(ex_sample.shape, ex_label)"
   ]
  },
  {
   "cell_type": "markdown",
   "metadata": {},
   "source": [
    "Now we can define the model. Since we are not making a customised model, using sequential will be quicker and less prone to errors."
   ]
  },
  {
   "cell_type": "code",
   "execution_count": 26,
   "metadata": {},
   "outputs": [],
   "source": [
    "model = nn.Sequential(\n",
    "                nn.Linear(784, 300), # input layer = 784, output = 300 --> hidden layer\n",
    "                nn.ReLU(),\n",
    "                nn.Linear(300, 10))  #  hidden layer = 300, output layer = 10 --> classes 0-9"
   ]
  },
  {
   "cell_type": "markdown",
   "metadata": {},
   "source": [
    "So the model has 784 features, 2 hidden layers with 300 and 10 neurons, respectively, and the activation function between the two layers is the rectified linear unit (ReLU)\n",
    "\n",
    "$$ \\text{ReLU}(x) = \\text{max}(0, x) = \\begin{cases}\n",
    "       x  & \\text{if $x > 0$,}\\\\\n",
    "      0 & \\text{$ x \\leq 0$.}\n",
    "    \\end{cases} $$\n",
    "    \n",
    "The softmax activation function is not required after the last layer because it will be included with the cross entropy loss funtion."
   ]
  },
  {
   "cell_type": "code",
   "execution_count": 27,
   "metadata": {},
   "outputs": [],
   "source": [
    "loss_fn = nn.CrossEntropyLoss()\n",
    "optimiser = torch.optim.Adam(model.parameters(), lr=learning_rate)"
   ]
  },
  {
   "cell_type": "markdown",
   "metadata": {},
   "source": [
    "The loss function is the cross entrpoy loss, defined as\n",
    "\n",
    "$$ l_n = -w_{y_n} \\log{\\frac{\\exp{x_{n,y_n}}}{\\sum_{c=0}^C \\exp{x_{n,c}}}}, $$\n",
    "\n",
    "for a given bacth $n$.  \n",
    "The Adam optimiser adjusts the learning rate during training which controls how fast the model adapts to changing data.  \n",
    "## Training"
   ]
  },
  {
   "cell_type": "code",
   "execution_count": 29,
   "metadata": {},
   "outputs": [],
   "source": [
    "writer = SummaryWriter(f'runs/Toy_NN/tb/run2')"
   ]
  },
  {
   "cell_type": "code",
   "execution_count": 30,
   "metadata": {
    "scrolled": true
   },
   "outputs": [
    {
     "name": "stdout",
     "output_type": "stream",
     "text": [
      "epoch 1, step 100/420, loss = 0.387500\n",
      "epoch 1, step 200/420, loss = 0.264137\n",
      "epoch 1, step 300/420, loss = 0.292863\n",
      "epoch 1, step 400/420, loss = 0.258061\n",
      "epoch 2, step 100/420, loss = 0.137585\n",
      "epoch 2, step 200/420, loss = 0.135655\n",
      "epoch 2, step 300/420, loss = 0.204118\n",
      "epoch 2, step 400/420, loss = 0.157109\n"
     ]
    }
   ],
   "source": [
    "# Training loop\n",
    "\n",
    "n_total_steps = len(train_loader)\n",
    "\n",
    "for epoch in range(n_epochs):\n",
    "    for i, (instances, labels) in enumerate(train_loader): # i gets the index\n",
    "        \n",
    "        # forward pass\n",
    "        out = model(instances)\n",
    "        #print(out)\n",
    "        #print(labels.long())\n",
    "        loss = loss_fn(out, labels.long()) # .long() gets the labels in the correct integer format\n",
    "\n",
    "        # backward pass\n",
    "        optimiser.zero_grad()\n",
    "        loss.backward()\n",
    "        \n",
    "        # parameter update\n",
    "        optimiser.step()\n",
    "\n",
    "        if (i+1) % 100 == 0:\n",
    "            print(f'epoch {epoch+1}, step {i+1}/{n_total_steps}, loss = {loss:.6f}')\n",
    "        \n",
    "        writer.add_scalar('loss', loss, global_step = i)"
   ]
  },
  {
   "cell_type": "code",
   "execution_count": 31,
   "metadata": {},
   "outputs": [
    {
     "data": {
      "text/plain": [
       "Reusing TensorBoard on port 6006 (pid 18056), started 0:04:07 ago. (Use '!kill 18056' to kill it.)"
      ]
     },
     "metadata": {},
     "output_type": "display_data"
    },
    {
     "data": {
      "text/html": [
       "\n",
       "      <iframe id=\"tensorboard-frame-788055b21b3b8d61\" width=\"100%\" height=\"800\" frameborder=\"0\">\n",
       "      </iframe>\n",
       "      <script>\n",
       "        (function() {\n",
       "          const frame = document.getElementById(\"tensorboard-frame-788055b21b3b8d61\");\n",
       "          const url = new URL(\"/\", window.location);\n",
       "          const port = 6006;\n",
       "          if (port) {\n",
       "            url.port = port;\n",
       "          }\n",
       "          frame.src = url;\n",
       "        })();\n",
       "      </script>\n",
       "    "
      ],
      "text/plain": [
       "<IPython.core.display.HTML object>"
      ]
     },
     "metadata": {},
     "output_type": "display_data"
    }
   ],
   "source": [
    "%tensorboard --logdir runs"
   ]
  },
  {
   "cell_type": "markdown",
   "metadata": {},
   "source": [
    "## Testing"
   ]
  },
  {
   "cell_type": "code",
   "execution_count": 14,
   "metadata": {},
   "outputs": [
    {
     "name": "stdout",
     "output_type": "stream",
     "text": [
      "accuracy = 0.956\n"
     ]
    }
   ],
   "source": [
    "# Testing loop\n",
    "\n",
    "n_samples = 0\n",
    "n_correct = 0\n",
    "\n",
    "test_preds = []\n",
    "test_labels = []\n",
    "\n",
    "with torch.no_grad(): # no_grad means the model will not be trained while we test\n",
    "    for instances, labels in test_loader:\n",
    "        output = model(instances)\n",
    "        _, predictions = torch.max(output, 1) # prediction is taken as the class with the highest probability\n",
    "        \n",
    "        n_samples += labels.shape[0]\n",
    "        n_correct += (predictions == labels).sum().item()\n",
    "        \n",
    "        test_preds.append(predictions)\n",
    "        test_labels.append(labels)\n",
    "        \n",
    "    acc = n_correct/n_samples\n",
    "    print(f'accuracy = {acc:.3f}')"
   ]
  },
  {
   "cell_type": "markdown",
   "metadata": {},
   "source": [
    "Another way to visualise the model's performance is by using a confusion matrix"
   ]
  },
  {
   "cell_type": "code",
   "execution_count": 15,
   "metadata": {},
   "outputs": [
    {
     "data": {
      "text/plain": [
       "tensor([4, 2, 8,  ..., 3, 4, 1])"
      ]
     },
     "execution_count": 15,
     "metadata": {},
     "output_type": "execute_result"
    }
   ],
   "source": [
    "preds_cat = torch.cat(test_preds)\n",
    "labels_cat = torch.cat(test_labels)\n",
    "preds_cat"
   ]
  },
  {
   "cell_type": "code",
   "execution_count": 16,
   "metadata": {},
   "outputs": [
    {
     "data": {
      "text/plain": [
       "tensor([4, 2, 8,  ..., 3, 4, 1])"
      ]
     },
     "execution_count": 16,
     "metadata": {},
     "output_type": "execute_result"
    }
   ],
   "source": [
    "preds_cat"
   ]
  },
  {
   "cell_type": "code",
   "execution_count": 17,
   "metadata": {
    "scrolled": true
   },
   "outputs": [
    {
     "data": {
      "text/plain": [
       "array([[2595,    0,   14,   11,    7,   13,   21,    5,    7,   16],\n",
       "       [   0, 3099,    5,   11,    7,    7,    7,    9,   26,   10],\n",
       "       [   4,   22, 2714,   49,    8,    6,    6,   27,   13,    2],\n",
       "       [   2,    5,   14, 2632,    1,   20,    0,    4,   32,   16],\n",
       "       [   3,    3,   12,    1, 2597,    8,   13,   26,    6,   39],\n",
       "       [   5,    6,    2,   72,    1, 2408,   39,    3,   19,   13],\n",
       "       [   8,    1,    3,    2,   15,   15, 2698,    0,   12,    2],\n",
       "       [   4,    9,   15,   23,    6,    7,    0, 2789,    3,   34],\n",
       "       [  19,   20,   28,   39,    9,   24,   11,    5, 2582,   15],\n",
       "       [   2,    8,    4,   39,   82,   25,    0,   38,   25, 2656]],\n",
       "      dtype=int64)"
      ]
     },
     "execution_count": 17,
     "metadata": {},
     "output_type": "execute_result"
    }
   ],
   "source": [
    "conf_matrix = confusion_matrix(preds_cat, labels_cat)\n",
    "conf_matrix"
   ]
  },
  {
   "cell_type": "markdown",
   "metadata": {},
   "source": [
    "A perfect classifier would produce a diagonal matrix.  We can visualise this matrix as an image"
   ]
  },
  {
   "cell_type": "code",
   "execution_count": 18,
   "metadata": {
    "scrolled": true
   },
   "outputs": [
    {
     "data": {
      "image/png": "[encoded data removed]",
      "text/plain": [
       "<Figure size 288x288 with 1 Axes>"
      ]
     },
     "metadata": {
      "needs_background": "light"
     },
     "output_type": "display_data"
    }
   ],
   "source": [
    "plt.matshow(conf_matrix, cmap = 'gray')\n",
    "plt.show()"
   ]
  },
  {
   "cell_type": "markdown",
   "metadata": {},
   "source": [
    "and then look at errors"
   ]
  },
  {
   "cell_type": "code",
   "execution_count": 19,
   "metadata": {},
   "outputs": [
    {
     "data": {
      "image/png": "[encoded data removed]",
      "text/plain": [
       "<Figure size 288x288 with 1 Axes>"
      ]
     },
     "metadata": {
      "needs_background": "light"
     },
     "output_type": "display_data"
    }
   ],
   "source": [
    "row_sums = conf_matrix.sum(axis=1, keepdims=True)\n",
    "norm_conf_matrix = conf_matrix / row_sums\n",
    "np.fill_diagonal(norm_conf_matrix, 0)\n",
    "plt.matshow(norm_conf_matrix, cmap='gray')\n",
    "plt.show()"
   ]
  },
  {
   "cell_type": "markdown",
   "metadata": {},
   "source": [
    "For example, this shows that 5's are frequently misclassified as 3's.  \n",
    "\n",
    "If we now want to save the trained model, it is recomended to save the model parameters and then rebuild the model at a later time"
   ]
  },
  {
   "cell_type": "code",
   "execution_count": 20,
   "metadata": {},
   "outputs": [],
   "source": [
    "torch.save(model.state_dict(), 'MNIST_Model.pth')"
   ]
  },
  {
   "cell_type": "code",
   "execution_count": 21,
   "metadata": {},
   "outputs": [
    {
     "name": "stdout",
     "output_type": "stream",
     "text": [
      "same\n",
      "same\n",
      "same\n",
      "same\n"
     ]
    }
   ],
   "source": [
    "# Quick test\n",
    "\n",
    "loaded_model = nn.Sequential(\n",
    "                nn.Linear(784, 300),\n",
    "                nn.ReLU(),\n",
    "                nn.Linear(300, 10)) \n",
    "\n",
    "loaded_model.load_state_dict(torch.load('MNIST_Model.pth'))\n",
    "\n",
    "for i, j in zip(model.state_dict(), loaded_model.state_dict()):\n",
    "    if i != j:\n",
    "        print('Not the same')\n",
    "    else:\n",
    "        print('same')\n",
    "    "
   ]
  }
 ],
 "metadata": {
  "kernelspec": {
   "display_name": "Python 3",
   "language": "python",
   "name": "python3"
  },
  "language_info": {
   "codemirror_mode": {
    "name": "ipython",
    "version": 3
   },
   "file_extension": ".py",
   "mimetype": "text/x-python",
   "name": "python",
   "nbconvert_exporter": "python",
   "pygments_lexer": "ipython3",
   "version": "3.7.6"
  }
 },
 "nbformat": 4,
 "nbformat_minor": 4
}
